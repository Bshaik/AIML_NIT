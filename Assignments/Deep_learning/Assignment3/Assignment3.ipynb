{
 "cells": [
  {
   "cell_type": "code",
   "execution_count": 49,
   "metadata": {
    "ExecuteTime": {
     "end_time": "2020-07-04T06:33:09.714426Z",
     "start_time": "2020-07-04T06:33:09.706447Z"
    },
    "colab": {
     "base_uri": "https://localhost:8080/",
     "height": 34
    },
    "colab_type": "code",
    "id": "2Dn3-F5SsiCp",
    "outputId": "22ecbf55-d90f-4ec5-84a0-bc3564840417"
   },
   "outputs": [
    {
     "name": "stdout",
     "output_type": "stream",
     "text": [
      "Tensorflow Version: 2.1.0\n"
     ]
    }
   ],
   "source": [
    "#Importing Required Libraries\n",
    "\n",
    "from tensorflow.keras.datasets import mnist\n",
    "from tensorflow.keras.layers import Input, Dense, Conv2D, MaxPooling2D, UpSampling2D\n",
    "from tensorflow.keras.models import Model\n",
    "import tensorflow.keras as k\n",
    "\n",
    "import numpy as np\n",
    "import matplotlib.pyplot as plt\n",
    "print('Tensorflow Version:',tf.__version__)"
   ]
  },
  {
   "cell_type": "markdown",
   "metadata": {
    "colab_type": "text",
    "id": "wtqZ8m9KkwMU"
   },
   "source": [
    "### Data Pre-processing"
   ]
  },
  {
   "cell_type": "code",
   "execution_count": 50,
   "metadata": {
    "ExecuteTime": {
     "end_time": "2020-07-04T06:33:14.614520Z",
     "start_time": "2020-07-04T06:33:14.214591Z"
    },
    "colab": {},
    "colab_type": "code",
    "id": "-d9nHSJW4JOl"
   },
   "outputs": [],
   "source": [
    "# input data\n",
    "(x_train, _), (x_test, _) = mnist.load_data()"
   ]
  },
  {
   "cell_type": "code",
   "execution_count": 51,
   "metadata": {
    "ExecuteTime": {
     "end_time": "2020-07-04T06:33:19.284682Z",
     "start_time": "2020-07-04T06:33:15.388091Z"
    },
    "colab": {
     "base_uri": "https://localhost:8080/",
     "height": 51
    },
    "colab_type": "code",
    "id": "mdfzvav54N5N",
    "outputId": "0fe31109-e1c9-4f5a-dfc5-97c13590ec87"
   },
   "outputs": [],
   "source": [
    "#Normalize all values between 0 and 1 and flatten the 28x28 images into vectors of size 784\n",
    "x_train = x_train.astype('float32') / 255.\n",
    "x_test = x_test.astype('float32') / 255.\n",
    "x_train = np.reshape(x_train, (len(x_train), 28, 28, 1))\n",
    "x_test = np.reshape(x_test, (len(x_test), 28, 28, 1))\n",
    "\n",
    "#adding some noise\n",
    "noise_factor = 0.5\n",
    "x_train_noisy = x_train + noise_factor * np.random.normal(loc=0.0, scale=1.0, size=x_train.shape) \n",
    "x_test_noisy = x_test + noise_factor * np.random.normal(loc=0.0, scale=1.0, size=x_test.shape) \n",
    "\n",
    "x_train_noisy = np.clip(x_train_noisy, 0., 1.)\n",
    "x_test_noisy = np.clip(x_test_noisy, 0., 1.)"
   ]
  },
  {
   "cell_type": "code",
   "execution_count": 52,
   "metadata": {
    "ExecuteTime": {
     "end_time": "2020-07-04T06:33:21.603396Z",
     "start_time": "2020-07-04T06:33:20.644960Z"
    },
    "scrolled": true
   },
   "outputs": [
    {
     "data": {
      "image/png": "[encoded data removed]",
      "text/plain": [
       "<Figure size 1440x144 with 9 Axes>"
      ]
     },
     "metadata": {
      "needs_background": "light"
     },
     "output_type": "display_data"
    }
   ],
   "source": [
    "#Displaying images with noise\n",
    "plt.figure(figsize=(20, 2))\n",
    "for i in range(1,10):\n",
    "    ax = plt.subplot(1, 10, i)\n",
    "    plt.imshow(x_test_noisy[i].reshape(28, 28), cmap=\"binary\")\n",
    "plt.show()"
   ]
  },
  {
   "cell_type": "code",
   "execution_count": 53,
   "metadata": {
    "ExecuteTime": {
     "end_time": "2020-07-04T06:33:23.270336Z",
     "start_time": "2020-07-04T06:33:23.128715Z"
    },
    "scrolled": true
   },
   "outputs": [
    {
     "name": "stdout",
     "output_type": "stream",
     "text": [
      "Model: \"sequential_6\"\n",
      "_________________________________________________________________\n",
      "Layer (type)                 Output Shape              Param #   \n",
      "=================================================================\n",
      "conv2d_30 (Conv2D)           (None, 28, 28, 32)        320       \n",
      "_________________________________________________________________\n",
      "max_pooling2d_12 (MaxPooling (None, 14, 14, 32)        0         \n",
      "_________________________________________________________________\n",
      "conv2d_31 (Conv2D)           (None, 14, 14, 64)        18496     \n",
      "_________________________________________________________________\n",
      "max_pooling2d_13 (MaxPooling (None, 7, 7, 64)          0         \n",
      "_________________________________________________________________\n",
      "conv2d_32 (Conv2D)           (None, 7, 7, 64)          36928     \n",
      "_________________________________________________________________\n",
      "up_sampling2d_12 (UpSampling (None, 14, 14, 64)        0         \n",
      "_________________________________________________________________\n",
      "conv2d_33 (Conv2D)           (None, 14, 14, 32)        18464     \n",
      "_________________________________________________________________\n",
      "up_sampling2d_13 (UpSampling (None, 28, 28, 32)        0         \n",
      "_________________________________________________________________\n",
      "conv2d_34 (Conv2D)           (None, 28, 28, 1)         289       \n",
      "=================================================================\n",
      "Total params: 74,497\n",
      "Trainable params: 74,497\n",
      "Non-trainable params: 0\n",
      "_________________________________________________________________\n"
     ]
    }
   ],
   "source": [
    "# Buiding and compiling the Model\n",
    "\n",
    "model = k.models.Sequential()\n",
    "\n",
    "model.add(Conv2D(32, (3,3), activation='relu', padding='same', input_shape=(28,28,1)))\n",
    "model.add(MaxPooling2D((2,2), padding='same'))\n",
    "model.add(Conv2D(64, (3,3), activation='relu', padding='same'))\n",
    "model.add(MaxPooling2D((2,2), padding='same'))\n",
    "          \n",
    "model.add(Conv2D(64, (3,3), activation='relu', padding='same'))\n",
    "model.add(UpSampling2D((2,2)))\n",
    "model.add(Conv2D(32, (3,3), activation='relu', padding='same'))\n",
    "model.add(UpSampling2D((2,2)))\n",
    "model.add(Conv2D(1,(3,3), activation='sigmoid', padding='same'))\n",
    "\n",
    "model.compile(optimizer='adadelta',\n",
    "             loss='binary_crossentropy')\n",
    "model.summary()"
   ]
  },
  {
   "cell_type": "code",
   "execution_count": 59,
   "metadata": {
    "ExecuteTime": {
     "end_time": "2020-07-04T13:18:06.933298Z",
     "start_time": "2020-07-04T09:41:32.299944Z"
    },
    "scrolled": true
   },
   "outputs": [
    {
     "name": "stdout",
     "output_type": "stream",
     "text": [
      "Train on 60000 samples, validate on 10000 samples\n",
      "Epoch 1/100\n",
      "60000/60000 [==============================] - 127s 2ms/sample - loss: 0.1847 - val_loss: 0.1833\n",
      "Epoch 2/100\n",
      "60000/60000 [==============================] - 131s 2ms/sample - loss: 0.1837 - val_loss: 0.1823\n",
      "Epoch 3/100\n",
      "60000/60000 [==============================] - 129s 2ms/sample - loss: 0.1827 - val_loss: 0.1814\n",
      "Epoch 4/100\n",
      "60000/60000 [==============================] - 129s 2ms/sample - loss: 0.1818 - val_loss: 0.1805\n",
      "Epoch 5/100\n",
      "60000/60000 [==============================] - 129s 2ms/sample - loss: 0.1809 - val_loss: 0.1796\n",
      "Epoch 6/100\n",
      "60000/60000 [==============================] - 129s 2ms/sample - loss: 0.1800 - val_loss: 0.1787\n",
      "Epoch 7/100\n",
      "60000/60000 [==============================] - 132s 2ms/sample - loss: 0.1792 - val_loss: 0.1779\n",
      "Epoch 8/100\n",
      "60000/60000 [==============================] - 132s 2ms/sample - loss: 0.1784 - val_loss: 0.1771\n",
      "Epoch 9/100\n",
      "60000/60000 [==============================] - 131s 2ms/sample - loss: 0.1776 - val_loss: 0.1763\n",
      "Epoch 10/100\n",
      "60000/60000 [==============================] - 130s 2ms/sample - loss: 0.1769 - val_loss: 0.1756\n",
      "Epoch 11/100\n",
      "60000/60000 [==============================] - 130s 2ms/sample - loss: 0.1762 - val_loss: 0.1749\n",
      "Epoch 12/100\n",
      "60000/60000 [==============================] - 131s 2ms/sample - loss: 0.1755 - val_loss: 0.1742\n",
      "Epoch 13/100\n",
      "60000/60000 [==============================] - 130s 2ms/sample - loss: 0.1748 - val_loss: 0.1735\n",
      "Epoch 14/100\n",
      "60000/60000 [==============================] - 130s 2ms/sample - loss: 0.1742 - val_loss: 0.1729\n",
      "Epoch 15/100\n",
      "60000/60000 [==============================] - 129s 2ms/sample - loss: 0.1736 - val_loss: 0.1723\n",
      "Epoch 16/100\n",
      "60000/60000 [==============================] - 131s 2ms/sample - loss: 0.1730 - val_loss: 0.1717\n",
      "Epoch 17/100\n",
      "60000/60000 [==============================] - 130s 2ms/sample - loss: 0.1724 - val_loss: 0.1711\n",
      "Epoch 18/100\n",
      "60000/60000 [==============================] - 129s 2ms/sample - loss: 0.1718 - val_loss: 0.1705\n",
      "Epoch 19/100\n",
      "60000/60000 [==============================] - 129s 2ms/sample - loss: 0.1712 - val_loss: 0.1699\n",
      "Epoch 20/100\n",
      "60000/60000 [==============================] - 129s 2ms/sample - loss: 0.1707 - val_loss: 0.1694\n",
      "Epoch 21/100\n",
      "60000/60000 [==============================] - 130s 2ms/sample - loss: 0.1701 - val_loss: 0.1689\n",
      "Epoch 22/100\n",
      "60000/60000 [==============================] - 129s 2ms/sample - loss: 0.1696 - val_loss: 0.1683\n",
      "Epoch 23/100\n",
      "60000/60000 [==============================] - 131s 2ms/sample - loss: 0.1691 - val_loss: 0.1678\n",
      "Epoch 24/100\n",
      "60000/60000 [==============================] - 129s 2ms/sample - loss: 0.1686 - val_loss: 0.1673\n",
      "Epoch 25/100\n",
      "60000/60000 [==============================] - 130s 2ms/sample - loss: 0.1681 - val_loss: 0.1668\n",
      "Epoch 26/100\n",
      "60000/60000 [==============================] - 129s 2ms/sample - loss: 0.1676 - val_loss: 0.1663\n",
      "Epoch 27/100\n",
      "60000/60000 [==============================] - 131s 2ms/sample - loss: 0.1671 - val_loss: 0.1659\n",
      "Epoch 28/100\n",
      "60000/60000 [==============================] - 135s 2ms/sample - loss: 0.1667 - val_loss: 0.1654\n",
      "Epoch 29/100\n",
      "60000/60000 [==============================] - 129s 2ms/sample - loss: 0.1662 - val_loss: 0.1649\n",
      "Epoch 30/100\n",
      "60000/60000 [==============================] - 130s 2ms/sample - loss: 0.1658 - val_loss: 0.1645\n",
      "Epoch 31/100\n",
      "60000/60000 [==============================] - 129s 2ms/sample - loss: 0.1653 - val_loss: 0.1640\n",
      "Epoch 32/100\n",
      "60000/60000 [==============================] - 129s 2ms/sample - loss: 0.1649 - val_loss: 0.1636\n",
      "Epoch 33/100\n",
      "60000/60000 [==============================] - 129s 2ms/sample - loss: 0.1644 - val_loss: 0.1631\n",
      "Epoch 34/100\n",
      "60000/60000 [==============================] - 129s 2ms/sample - loss: 0.1640 - val_loss: 0.1627\n",
      "Epoch 35/100\n",
      "60000/60000 [==============================] - 133s 2ms/sample - loss: 0.1636 - val_loss: 0.1623\n",
      "Epoch 36/100\n",
      "60000/60000 [==============================] - 129s 2ms/sample - loss: 0.1631 - val_loss: 0.1618\n",
      "Epoch 37/100\n",
      "60000/60000 [==============================] - 130s 2ms/sample - loss: 0.1627 - val_loss: 0.1614\n",
      "Epoch 38/100\n",
      "60000/60000 [==============================] - 129s 2ms/sample - loss: 0.1623 - val_loss: 0.1610\n",
      "Epoch 39/100\n",
      "60000/60000 [==============================] - 131s 2ms/sample - loss: 0.1619 - val_loss: 0.1606\n",
      "Epoch 40/100\n",
      "60000/60000 [==============================] - 131s 2ms/sample - loss: 0.1615 - val_loss: 0.1602\n",
      "Epoch 41/100\n",
      "60000/60000 [==============================] - 130s 2ms/sample - loss: 0.1611 - val_loss: 0.1598\n",
      "Epoch 42/100\n",
      "60000/60000 [==============================] - 131s 2ms/sample - loss: 0.1607 - val_loss: 0.1594\n",
      "Epoch 43/100\n",
      "60000/60000 [==============================] - 129s 2ms/sample - loss: 0.1604 - val_loss: 0.1590\n",
      "Epoch 44/100\n",
      "60000/60000 [==============================] - 130s 2ms/sample - loss: 0.1600 - val_loss: 0.1587\n",
      "Epoch 45/100\n",
      "60000/60000 [==============================] - 131s 2ms/sample - loss: 0.1596 - val_loss: 0.1583\n",
      "Epoch 46/100\n",
      "60000/60000 [==============================] - 129s 2ms/sample - loss: 0.1593 - val_loss: 0.1579\n",
      "Epoch 47/100\n",
      "60000/60000 [==============================] - 129s 2ms/sample - loss: 0.1589 - val_loss: 0.1576\n",
      "Epoch 48/100\n",
      "60000/60000 [==============================] - 129s 2ms/sample - loss: 0.1585 - val_loss: 0.1572\n",
      "Epoch 49/100\n",
      "60000/60000 [==============================] - 130s 2ms/sample - loss: 0.1582 - val_loss: 0.1569\n",
      "Epoch 50/100\n",
      "60000/60000 [==============================] - 130s 2ms/sample - loss: 0.1578 - val_loss: 0.1565\n",
      "Epoch 51/100\n",
      "60000/60000 [==============================] - 130s 2ms/sample - loss: 0.1575 - val_loss: 0.1562\n",
      "Epoch 52/100\n",
      "60000/60000 [==============================] - 129s 2ms/sample - loss: 0.1572 - val_loss: 0.1558\n",
      "Epoch 53/100\n",
      "60000/60000 [==============================] - 130s 2ms/sample - loss: 0.1568 - val_loss: 0.1555\n",
      "Epoch 54/100\n",
      "60000/60000 [==============================] - 135s 2ms/sample - loss: 0.1565 - val_loss: 0.1552\n",
      "Epoch 55/100\n",
      "60000/60000 [==============================] - 129s 2ms/sample - loss: 0.1562 - val_loss: 0.1548\n",
      "Epoch 56/100\n",
      "60000/60000 [==============================] - 129s 2ms/sample - loss: 0.1559 - val_loss: 0.1545\n",
      "Epoch 57/100\n",
      "60000/60000 [==============================] - 129s 2ms/sample - loss: 0.1556 - val_loss: 0.1542\n",
      "Epoch 58/100\n",
      "60000/60000 [==============================] - 130s 2ms/sample - loss: 0.1552 - val_loss: 0.1539\n",
      "Epoch 59/100\n",
      "60000/60000 [==============================] - 129s 2ms/sample - loss: 0.1549 - val_loss: 0.1536\n",
      "Epoch 60/100\n",
      "60000/60000 [==============================] - 129s 2ms/sample - loss: 0.1546 - val_loss: 0.1533\n",
      "Epoch 61/100\n",
      "60000/60000 [==============================] - 129s 2ms/sample - loss: 0.1543 - val_loss: 0.1530\n",
      "Epoch 62/100\n",
      "60000/60000 [==============================] - 129s 2ms/sample - loss: 0.1540 - val_loss: 0.1527\n",
      "Epoch 63/100\n",
      "60000/60000 [==============================] - 133s 2ms/sample - loss: 0.1537 - val_loss: 0.1524\n",
      "Epoch 64/100\n",
      "60000/60000 [==============================] - 129s 2ms/sample - loss: 0.1535 - val_loss: 0.1521\n",
      "Epoch 65/100\n",
      "60000/60000 [==============================] - 131s 2ms/sample - loss: 0.1532 - val_loss: 0.1518\n",
      "Epoch 66/100\n",
      "60000/60000 [==============================] - 129s 2ms/sample - loss: 0.1529 - val_loss: 0.1515\n",
      "Epoch 67/100\n",
      "60000/60000 [==============================] - 131s 2ms/sample - loss: 0.1526 - val_loss: 0.1512\n",
      "Epoch 68/100\n",
      "60000/60000 [==============================] - 130s 2ms/sample - loss: 0.1523 - val_loss: 0.1510\n",
      "Epoch 69/100\n",
      "60000/60000 [==============================] - 130s 2ms/sample - loss: 0.1521 - val_loss: 0.1507\n",
      "Epoch 70/100\n",
      "60000/60000 [==============================] - 130s 2ms/sample - loss: 0.1518 - val_loss: 0.1504\n",
      "Epoch 71/100\n",
      "60000/60000 [==============================] - 131s 2ms/sample - loss: 0.1515 - val_loss: 0.1502\n",
      "Epoch 72/100\n",
      "60000/60000 [==============================] - 130s 2ms/sample - loss: 0.1513 - val_loss: 0.1499\n",
      "Epoch 73/100\n",
      "60000/60000 [==============================] - 130s 2ms/sample - loss: 0.1510 - val_loss: 0.1496\n",
      "Epoch 74/100\n",
      "60000/60000 [==============================] - 129s 2ms/sample - loss: 0.1507 - val_loss: 0.1494\n",
      "Epoch 75/100\n",
      "60000/60000 [==============================] - 129s 2ms/sample - loss: 0.1505 - val_loss: 0.1491\n",
      "Epoch 76/100\n",
      "60000/60000 [==============================] - 129s 2ms/sample - loss: 0.1502 - val_loss: 0.1488\n",
      "Epoch 77/100\n",
      "60000/60000 [==============================] - 129s 2ms/sample - loss: 0.1500 - val_loss: 0.1486\n",
      "Epoch 78/100\n",
      "60000/60000 [==============================] - 130s 2ms/sample - loss: 0.1497 - val_loss: 0.1484\n",
      "Epoch 79/100\n",
      "60000/60000 [==============================] - 129s 2ms/sample - loss: 0.1495 - val_loss: 0.1481\n",
      "Epoch 80/100\n",
      "60000/60000 [==============================] - 130s 2ms/sample - loss: 0.1493 - val_loss: 0.1479\n",
      "Epoch 81/100\n",
      "60000/60000 [==============================] - 129s 2ms/sample - loss: 0.1490 - val_loss: 0.1476\n",
      "Epoch 82/100\n",
      "60000/60000 [==============================] - 129s 2ms/sample - loss: 0.1488 - val_loss: 0.1474\n",
      "Epoch 83/100\n",
      "60000/60000 [==============================] - 129s 2ms/sample - loss: 0.1485 - val_loss: 0.1471\n",
      "Epoch 84/100\n",
      "60000/60000 [==============================] - 129s 2ms/sample - loss: 0.1483 - val_loss: 0.1469\n",
      "Epoch 85/100\n",
      "60000/60000 [==============================] - 130s 2ms/sample - loss: 0.1481 - val_loss: 0.1467\n",
      "Epoch 86/100\n",
      "60000/60000 [==============================] - 129s 2ms/sample - loss: 0.1479 - val_loss: 0.1464\n",
      "Epoch 87/100\n",
      "60000/60000 [==============================] - 129s 2ms/sample - loss: 0.1476 - val_loss: 0.1462\n",
      "Epoch 88/100\n",
      "60000/60000 [==============================] - 129s 2ms/sample - loss: 0.1474 - val_loss: 0.1460\n",
      "Epoch 89/100\n",
      "60000/60000 [==============================] - 129s 2ms/sample - loss: 0.1472 - val_loss: 0.1458\n",
      "Epoch 90/100\n",
      "60000/60000 [==============================] - 130s 2ms/sample - loss: 0.1470 - val_loss: 0.1456\n",
      "Epoch 91/100\n",
      "60000/60000 [==============================] - 131s 2ms/sample - loss: 0.1468 - val_loss: 0.1453\n",
      "Epoch 92/100\n",
      "60000/60000 [==============================] - 132s 2ms/sample - loss: 0.1465 - val_loss: 0.1451\n",
      "Epoch 93/100\n",
      "60000/60000 [==============================] - 130s 2ms/sample - loss: 0.1463 - val_loss: 0.1449\n",
      "Epoch 94/100\n",
      "60000/60000 [==============================] - 130s 2ms/sample - loss: 0.1461 - val_loss: 0.1447\n",
      "Epoch 95/100\n",
      "60000/60000 [==============================] - 130s 2ms/sample - loss: 0.1459 - val_loss: 0.1445\n",
      "Epoch 96/100\n",
      "60000/60000 [==============================] - 130s 2ms/sample - loss: 0.1457 - val_loss: 0.1443\n",
      "Epoch 97/100\n",
      "60000/60000 [==============================] - 130s 2ms/sample - loss: 0.1455 - val_loss: 0.1441\n",
      "Epoch 98/100\n",
      "60000/60000 [==============================] - 130s 2ms/sample - loss: 0.1453 - val_loss: 0.1439\n",
      "Epoch 99/100\n",
      "60000/60000 [==============================] - 130s 2ms/sample - loss: 0.1451 - val_loss: 0.1437\n",
      "Epoch 100/100\n",
      "60000/60000 [==============================] - 130s 2ms/sample - loss: 0.1449 - val_loss: 0.1435\n"
     ]
    },
    {
     "data": {
      "text/plain": [
       "<tensorflow.python.keras.callbacks.History at 0x22602560c50>"
      ]
     },
     "execution_count": 59,
     "metadata": {},
     "output_type": "execute_result"
    }
   ],
   "source": [
    "model.fit(x_train_noisy, x_train,\n",
    "        epochs=100,\n",
    "        batch_size=256,\n",
    "        shuffle=True,\n",
    "        validation_data=(x_test_noisy, x_test))"
   ]
  },
  {
   "cell_type": "code",
   "execution_count": 60,
   "metadata": {
    "ExecuteTime": {
     "end_time": "2020-07-04T13:18:21.784562Z",
     "start_time": "2020-07-04T13:18:15.448497Z"
    }
   },
   "outputs": [
    {
     "name": "stdout",
     "output_type": "stream",
     "text": [
      "10000/10000 [==============================] - 6s 629us/sample - loss: 0.1435\n"
     ]
    },
    {
     "data": {
      "text/plain": [
       "0.14349293534755705"
      ]
     },
     "execution_count": 60,
     "metadata": {},
     "output_type": "execute_result"
    }
   ],
   "source": [
    "model.evaluate(x_test_noisy, x_test)"
   ]
  },
  {
   "cell_type": "code",
   "execution_count": 61,
   "metadata": {
    "ExecuteTime": {
     "end_time": "2020-07-04T13:18:26.738772Z",
     "start_time": "2020-07-04T13:18:25.567270Z"
    }
   },
   "outputs": [
    {
     "name": "stdout",
     "output_type": "stream",
     "text": [
      "INFO:tensorflow:Assets written to: denoising_autoencoder.model\\assets\n"
     ]
    }
   ],
   "source": [
    "model.save('denoising_autoencoder.model')"
   ]
  },
  {
   "cell_type": "code",
   "execution_count": 62,
   "metadata": {
    "ExecuteTime": {
     "end_time": "2020-07-04T13:18:34.976008Z",
     "start_time": "2020-07-04T13:18:29.210429Z"
    }
   },
   "outputs": [],
   "source": [
    "no_noise_img = model.predict(x_test_noisy)"
   ]
  },
  {
   "cell_type": "markdown",
   "metadata": {},
   "source": [
    "### **Data Visualization using Matplotlib**"
   ]
  },
  {
   "cell_type": "code",
   "execution_count": 63,
   "metadata": {
    "ExecuteTime": {
     "end_time": "2020-07-04T13:18:39.316355Z",
     "start_time": "2020-07-04T13:18:38.019927Z"
    },
    "colab": {},
    "colab_type": "code",
    "id": "38HybDdr4Zm-"
   },
   "outputs": [
    {
     "data": {
      "image/png": "[encoded data removed]",
      "text/plain": [
       "<Figure size 2880x288 with 20 Axes>"
      ]
     },
     "metadata": {
      "needs_background": "light"
     },
     "output_type": "display_data"
    }
   ],
   "source": [
    "plt.figure(figsize=(40, 4))\n",
    "for i in range(10):\n",
    "    # display original\n",
    "    ax = plt.subplot(3, 20, i + 1)\n",
    "    plt.imshow(x_test_noisy[i].reshape(28, 28), cmap=\"binary\")\n",
    "    \n",
    "    # display reconstructed (after noise removed) image\n",
    "    ax = plt.subplot(3, 20, 40 +i+ 1)\n",
    "    plt.imshow(no_noise_img[i].reshape(28, 28), cmap=\"binary\")\n",
    "\n",
    "plt.show()"
   ]
  },
  {
   "cell_type": "markdown",
   "metadata": {
    "colab": {},
    "colab_type": "code",
    "id": "GWJky10FtJOM"
   },
   "source": [
    "### Question & Answers"
   ]
  },
  {
   "cell_type": "code",
   "execution_count": 44,
   "metadata": {
    "ExecuteTime": {
     "end_time": "2020-07-04T06:32:23.311831Z",
     "start_time": "2020-07-04T06:32:23.305848Z"
    }
   },
   "outputs": [
    {
     "data": {
      "text/plain": [
       "' NO, the result varies'"
      ]
     },
     "execution_count": 44,
     "metadata": {},
     "output_type": "execute_result"
    }
   ],
   "source": [
    "# Question: Do you get the same results if you run the notebook multiple times without changing any parameters?\n",
    "\"\"\" NO, the result varies\"\"\""
   ]
  },
  {
   "cell_type": "code",
   "execution_count": 45,
   "metadata": {
    "ExecuteTime": {
     "end_time": "2020-07-04T06:32:23.339756Z",
     "start_time": "2020-07-04T06:32:23.314823Z"
    }
   },
   "outputs": [
    {
     "data": {
      "text/plain": [
       "'\\nBatch size impacts learning significantly. \\nWhat happens when you put a batch through your network is that you average the gradients. \\nIf the batch size is big enough, then it will provide a stable enough estimate of what the gradient of the full dataset would be. \\nThe lower you go, the less accurate your estimate will be, however in some cases these noisy gradients can actually help escape local minima. \\nIf it is too low, then the network weights can just jump around if our data is noisy and it might be unable to learn, or it converges very slowly, thus negatively impacting total computation time.\\n'"
      ]
     },
     "execution_count": 45,
     "metadata": {},
     "output_type": "execute_result"
    }
   ],
   "source": [
    "# Question: What happens if we increase the batch_size?\n",
    "\"\"\"\n",
    "Batch size impacts learning significantly. \n",
    "What happens when you put a batch through your network is that you average the gradients. \n",
    "If the batch size is big enough, then it will provide a stable enough estimate of what the gradient of the full dataset would be. \n",
    "The lower you go, the less accurate your estimate will be, however in some cases these noisy gradients can actually help escape local minima. \n",
    "If it is too low, then the network weights can just jump around if our data is noisy and it might be unable to learn, or it converges very slowly, thus negatively impacting total computation time.\n",
    "\"\"\""
   ]
  },
  {
   "cell_type": "code",
   "execution_count": 65,
   "metadata": {
    "ExecuteTime": {
     "end_time": "2020-07-04T13:24:28.352328Z",
     "start_time": "2020-07-04T13:24:28.347343Z"
    }
   },
   "outputs": [
    {
     "data": {
      "text/plain": [
       "'\\nOther than Sigmoid we can go for either \"Tanh\" or \"ReLU\"\\n'"
      ]
     },
     "execution_count": 65,
     "metadata": {},
     "output_type": "execute_result"
    }
   ],
   "source": [
    "# Question: What other activation functions could we use instead of sigmoid?\n",
    "\"\"\"\n",
    "Other than Sigmoid we can go for either \"Tanh\" or \"ReLU\"\n",
    "\"\"\""
   ]
  },
  {
   "cell_type": "code",
   "execution_count": 47,
   "metadata": {
    "ExecuteTime": {
     "end_time": "2020-07-04T06:32:23.376659Z",
     "start_time": "2020-07-04T06:32:23.361698Z"
    },
    "scrolled": true
   },
   "outputs": [],
   "source": [
    "# Question: Why is the DCGAN output much better than Vanilla GAN? Elaborate\n",
    "\"\"\"\n",
    "GAN: \n",
    "    A Generative Adversarial Network (GAN) takes the idea of using a generator model to generate fake examples and discriminator model that tries to decide if the image it receives is a fake (i.e. from the generator) or a real sample.\n",
    "DCGAN:    \n",
    "    A Deep Convolution GAN (DCGAN) does something very similar, but specifically focusses on using Deep Convolutional networks in place of those fully connected networks. Conv nets in general find areas of correlation within an image, that is, they look for spatial correlations. \n",
    "    This means a DCGAN would likely be more fitting for image/video data.\n",
    "\n",
    "\"\"\""
   ]
  },
  {
   "cell_type": "code",
   "execution_count": 71,
   "metadata": {
    "ExecuteTime": {
     "end_time": "2020-07-04T13:41:07.419093Z",
     "start_time": "2020-07-04T13:41:07.412115Z"
    }
   },
   "outputs": [
    {
     "data": {
      "text/plain": [
       "' Here is the summary of the program\\n        1.\\tFirst and foremost: Importing the libraries\\n        2.\\tLoading MNIST dataset\\n        3.\\tPreparing the Data\\n        5.\\tPreprocessing on the data\\n        6.\\tSplit my model into training and test sets. Then adding some noise.\\n        7.\\tDisplaying images with noise\\n        8.\\tBuilding and Compile the model.\\n        9.\\tTrain the model\\n        10.\\tModel elavuation\\n        11.\\tData Visualization using Matplotlib\\n             \\t Display original(with noise) image\\n             \\t Display reconstructed (after noise removed) image\\n'"
      ]
     },
     "execution_count": 71,
     "metadata": {},
     "output_type": "execute_result"
    }
   ],
   "source": [
    "# Question: Write up a summary explaining how your program works \n",
    "\"\"\" Here is the summary of the program\n",
    "        1.\tFirst and foremost: Importing the libraries\n",
    "        2.\tLoading MNIST dataset\n",
    "        3.\tPreparing the Data\n",
    "        5.\tPreprocessing on the data\n",
    "        6.\tSplit my model into training and test sets. Then adding some noise.\n",
    "        7.\tDisplaying images with noise\n",
    "        8.\tBuilding and Compile the model.\n",
    "        9.\tTrain the model\n",
    "        10.\tModel elavuation\n",
    "        11.\tData Visualization using Matplotlib\n",
    "             \t Display original(with noise) image\n",
    "             \t Display reconstructed (after noise removed) image\n",
    "\"\"\""
   ]
  }
 ],
 "metadata": {
  "colab": {
   "collapsed_sections": [],
   "name": "Demo: A Simple Autoencoder.ipynb",
   "provenance": []
  },
  "kernelspec": {
   "display_name": "Python 3",
   "language": "python",
   "name": "python3"
  },
  "language_info": {
   "codemirror_mode": {
    "name": "ipython",
    "version": 3
   },
   "file_extension": ".py",
   "mimetype": "text/x-python",
   "name": "python",
   "nbconvert_exporter": "python",
   "pygments_lexer": "ipython3",
   "version": "3.7.3"
  },
  "toc": {
   "base_numbering": 1,
   "nav_menu": {},
   "number_sections": true,
   "sideBar": true,
   "skip_h1_title": false,
   "title_cell": "Table of Contents",
   "title_sidebar": "Contents",
   "toc_cell": false,
   "toc_position": {},
   "toc_section_display": true,
   "toc_window_display": false
  },
  "varInspector": {
   "cols": {
    "lenName": 16,
    "lenType": 16,
    "lenVar": 40
   },
   "kernels_config": {
    "python": {
     "delete_cmd_postfix": "",
     "delete_cmd_prefix": "del ",
     "library": "var_list.py",
     "varRefreshCmd": "print(var_dic_list())"
    },
    "r": {
     "delete_cmd_postfix": ") ",
     "delete_cmd_prefix": "rm(",
     "library": "var_list.r",
     "varRefreshCmd": "cat(var_dic_list()) "
    }
   },
   "types_to_exclude": [
    "module",
    "function",
    "builtin_function_or_method",
    "instance",
    "_Feature"
   ],
   "window_display": false
  }
 },
 "nbformat": 4,
 "nbformat_minor": 1
}
